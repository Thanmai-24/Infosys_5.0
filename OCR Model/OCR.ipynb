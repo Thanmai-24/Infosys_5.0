{
 "cells": [
  {
   "cell_type": "code",
   "execution_count": 8,
   "id": "594ec58f-31e0-4175-91bf-be0cc01f0165",
   "metadata": {},
   "outputs": [
    {
     "name": "stdout",
     "output_type": "stream",
     "text": [
      "Requirement already satisfied: pip in c:\\users\\deiva raja\\documents\\sample\\myenv\\lib\\site-packages (22.0.4)\n",
      "Collecting pip\n",
      "  Downloading pip-24.3.1-py3-none-any.whl (1.8 MB)\n",
      "     ---------------------------------------- 1.8/1.8 MB 2.5 MB/s eta 0:00:00\n",
      "Installing collected packages: pip\n",
      "  Attempting uninstall: pip\n",
      "    Found existing installation: pip 22.0.4\n",
      "    Uninstalling pip-22.0.4:\n",
      "      Successfully uninstalled pip-22.0.4\n",
      "Successfully installed pip-24.3.1\n"
     ]
    }
   ],
   "source": [
    "!python -m pip install --upgrade pip\n"
   ]
  },
  {
   "cell_type": "code",
   "execution_count": 1,
   "id": "e64c5e5e-57a7-49bd-8e2f-587bd82c4eaf",
   "metadata": {},
   "outputs": [
    {
     "name": "stdout",
     "output_type": "stream",
     "text": [
      "Collecting easyocr\n",
      "  Using cached easyocr-1.7.2-py3-none-any.whl.metadata (10 kB)\n",
      "Requirement already satisfied: torch in c:\\users\\deiva raja\\documents\\sample\\myenv\\lib\\site-packages (from easyocr) (2.5.1)\n",
      "Requirement already satisfied: torchvision>=0.5 in c:\\users\\deiva raja\\documents\\sample\\myenv\\lib\\site-packages (from easyocr) (0.20.1)\n",
      "Collecting opencv-python-headless (from easyocr)\n",
      "  Using cached opencv_python_headless-4.10.0.84-cp37-abi3-win_amd64.whl.metadata (20 kB)\n",
      "Requirement already satisfied: scipy in c:\\users\\deiva raja\\documents\\sample\\myenv\\lib\\site-packages (from easyocr) (1.13.1)\n",
      "Requirement already satisfied: numpy in c:\\users\\deiva raja\\documents\\sample\\myenv\\lib\\site-packages (from easyocr) (2.0.2)\n",
      "Requirement already satisfied: Pillow in c:\\users\\deiva raja\\documents\\sample\\myenv\\lib\\site-packages (from easyocr) (11.1.0)\n",
      "Requirement already satisfied: scikit-image in c:\\users\\deiva raja\\documents\\sample\\myenv\\lib\\site-packages (from easyocr) (0.24.0)\n",
      "Requirement already satisfied: python-bidi in c:\\users\\deiva raja\\documents\\sample\\myenv\\lib\\site-packages (from easyocr) (0.6.3)\n",
      "Requirement already satisfied: PyYAML in c:\\users\\deiva raja\\documents\\sample\\myenv\\lib\\site-packages (from easyocr) (6.0.2)\n",
      "Requirement already satisfied: Shapely in c:\\users\\deiva raja\\documents\\sample\\myenv\\lib\\site-packages (from easyocr) (2.0.6)\n",
      "Requirement already satisfied: pyclipper in c:\\users\\deiva raja\\documents\\sample\\myenv\\lib\\site-packages (from easyocr) (1.3.0.post6)\n",
      "Collecting ninja (from easyocr)\n",
      "  Using cached ninja-1.11.1.3-py3-none-win_amd64.whl.metadata (5.3 kB)\n",
      "Requirement already satisfied: filelock in c:\\users\\deiva raja\\documents\\sample\\myenv\\lib\\site-packages (from torch->easyocr) (3.16.1)\n",
      "Requirement already satisfied: typing-extensions>=4.8.0 in c:\\users\\deiva raja\\documents\\sample\\myenv\\lib\\site-packages (from torch->easyocr) (4.12.2)\n",
      "Requirement already satisfied: networkx in c:\\users\\deiva raja\\documents\\sample\\myenv\\lib\\site-packages (from torch->easyocr) (3.2.1)\n",
      "Requirement already satisfied: jinja2 in c:\\users\\deiva raja\\documents\\sample\\myenv\\lib\\site-packages (from torch->easyocr) (3.1.5)\n",
      "Requirement already satisfied: fsspec in c:\\users\\deiva raja\\documents\\sample\\myenv\\lib\\site-packages (from torch->easyocr) (2024.12.0)\n",
      "Requirement already satisfied: sympy==1.13.1 in c:\\users\\deiva raja\\documents\\sample\\myenv\\lib\\site-packages (from torch->easyocr) (1.13.1)\n",
      "Requirement already satisfied: mpmath<1.4,>=1.1.0 in c:\\users\\deiva raja\\documents\\sample\\myenv\\lib\\site-packages (from sympy==1.13.1->torch->easyocr) (1.3.0)\n",
      "Requirement already satisfied: imageio>=2.33 in c:\\users\\deiva raja\\documents\\sample\\myenv\\lib\\site-packages (from scikit-image->easyocr) (2.36.1)\n",
      "Requirement already satisfied: tifffile>=2022.8.12 in c:\\users\\deiva raja\\documents\\sample\\myenv\\lib\\site-packages (from scikit-image->easyocr) (2024.8.30)\n",
      "Requirement already satisfied: packaging>=21 in c:\\users\\deiva raja\\documents\\sample\\myenv\\lib\\site-packages (from scikit-image->easyocr) (24.2)\n",
      "Requirement already satisfied: lazy-loader>=0.4 in c:\\users\\deiva raja\\documents\\sample\\myenv\\lib\\site-packages (from scikit-image->easyocr) (0.4)\n",
      "Requirement already satisfied: MarkupSafe>=2.0 in c:\\users\\deiva raja\\documents\\sample\\myenv\\lib\\site-packages (from jinja2->torch->easyocr) (3.0.2)\n",
      "Using cached easyocr-1.7.2-py3-none-any.whl (2.9 MB)\n",
      "Using cached ninja-1.11.1.3-py3-none-win_amd64.whl (296 kB)\n",
      "Using cached opencv_python_headless-4.10.0.84-cp37-abi3-win_amd64.whl (38.8 MB)\n",
      "Installing collected packages: opencv-python-headless, ninja, easyocr\n",
      "Successfully installed easyocr-1.7.2 ninja-1.11.1.3 opencv-python-headless-4.10.0.84\n"
     ]
    }
   ],
   "source": [
    "!pip install easyocr"
   ]
  },
  {
   "cell_type": "code",
   "execution_count": 3,
   "id": "581208e3-65da-46d8-9537-adcbb6cf9214",
   "metadata": {},
   "outputs": [],
   "source": [
    "from ultralytics import YOLO\n",
    "import easyocr\n",
    "import cv2"
   ]
  },
  {
   "cell_type": "code",
   "execution_count": 4,
   "id": "72d6a990-1152-419a-98b1-f76a2d27a5d3",
   "metadata": {},
   "outputs": [],
   "source": [
    "model = YOLO(r\"C:\\Users\\DEIVA RAJA\\runs\\detect\\train6\\weights\\best.pt\")"
   ]
  },
  {
   "cell_type": "code",
   "execution_count": 5,
   "id": "dcaca466-f656-4802-8366-bbc097920f5f",
   "metadata": {},
   "outputs": [
    {
     "name": "stderr",
     "output_type": "stream",
     "text": [
      "Neither CUDA nor MPS are available - defaulting to CPU. Note: This module is much faster with a GPU.\n"
     ]
    }
   ],
   "source": [
    "reader = easyocr.Reader(['en'])"
   ]
  },
  {
   "cell_type": "code",
   "execution_count": 6,
   "id": "cde4726c-1f3c-4a68-b05e-aec1bb3a5ad0",
   "metadata": {},
   "outputs": [
    {
     "name": "stdout",
     "output_type": "stream",
     "text": [
      "\n",
      "image 1/1 C:\\Users\\DEIVA RAJA\\Documents\\Infosys_Training\\Classification model\\aadhar.jpg: 320x640 1 name, 2 uids, 2 addresss, 230.5ms\n",
      "Speed: 8.7ms preprocess, 230.5ms inference, 8.3ms postprocess per image at shape (1, 3, 320, 640)\n"
     ]
    }
   ],
   "source": [
    "image_path = r\"C:\\Users\\DEIVA RAJA\\Documents\\Infosys_Training\\Classification model\\aadhar.jpg\" \n",
    "results = model(image_path)"
   ]
  },
  {
   "cell_type": "code",
   "execution_count": 7,
   "id": "b6c6133f-1c04-4432-84e5-e39eebf41967",
   "metadata": {},
   "outputs": [],
   "source": [
    "image = cv2.imread(image_path)\n",
    "extracted_data = {}"
   ]
  },
  {
   "cell_type": "code",
   "execution_count": 8,
   "id": "ea54f65e-938c-4bc8-8d7b-b199bafaec7d",
   "metadata": {},
   "outputs": [],
   "source": [
    "for result in results[0].boxes.data.tolist():  # results[0].boxes.data contains bounding box details\n",
    "    x1, y1, x2, y2, confidence, class_id = map(int, result[:6])\n",
    "    field_class = model.names[class_id]  # Get class name (e.g., 'Name', 'UID', 'Address')\n",
    "\n",
    "    # Crop the detected region\n",
    "    cropped_roi = image[y1:y2, x1:x2]\n",
    "\n",
    "    # Convert cropped ROI to grayscale for OCR\n",
    "    gray_roi = cv2.cvtColor(cropped_roi, cv2.COLOR_BGR2GRAY)\n",
    "\n",
    "    # Use EasyOCR to extract text\n",
    "    text = reader.readtext(gray_roi, detail=0)  # detail=0 returns only the text\n",
    "\n",
    "    # Save the text to the extracted_data dictionary\n",
    "    extracted_data[field_class] = ' '.join(text)"
   ]
  },
  {
   "cell_type": "code",
   "execution_count": 9,
   "id": "f6d48a90-e33c-424a-84e2-426b7c6411e5",
   "metadata": {},
   "outputs": [
    {
     "name": "stdout",
     "output_type": "stream",
     "text": [
      "Extracted Data: {'name': 'Voht Slrgh Charar', 'uid': '4718 7188 2819', 'address': '~Pre - cadoc'}\n"
     ]
    }
   ],
   "source": [
    "print(\"Extracted Data:\", extracted_data)"
   ]
  },
  {
   "cell_type": "code",
   "execution_count": null,
   "id": "69d79c1e-5d67-4881-a118-ed5a0abdee24",
   "metadata": {},
   "outputs": [],
   "source": []
  }
 ],
 "metadata": {
  "kernelspec": {
   "display_name": "Python 3 (ipykernel)",
   "language": "python",
   "name": "python3"
  },
  "language_info": {
   "codemirror_mode": {
    "name": "ipython",
    "version": 3
   },
   "file_extension": ".py",
   "mimetype": "text/x-python",
   "name": "python",
   "nbconvert_exporter": "python",
   "pygments_lexer": "ipython3",
   "version": "3.9.13"
  }
 },
 "nbformat": 4,
 "nbformat_minor": 5
}
